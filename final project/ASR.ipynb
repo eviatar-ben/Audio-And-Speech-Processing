{
 "nbformat": 4,
 "nbformat_minor": 0,
 "metadata": {
  "colab": {
   "provenance": []
  },
  "kernelspec": {
   "name": "python3",
   "language": "python",
   "display_name": "Python 3 (ipykernel)"
  },
  "accelerator": "GPU"
 },
 "cells": [
  {
   "cell_type": "markdown",
   "metadata": {
    "id": "ibD6bsRPl8Qu"
   },
   "source": [
    "# ASR"
   ]
  },
  {
   "cell_type": "code",
   "execution_count": null,
   "outputs": [],
   "source": [
    "# !pip install torchaudio==0.4.0 torch==1.4.0 comet-ml==3.0.2\n"
   ],
   "metadata": {
    "collapsed": false
   }
  },
  {
   "cell_type": "markdown",
   "metadata": {
    "id": "q1fXgsDQmK09"
   },
   "source": [
    "## Preprocess"
   ]
  },
  {
   "cell_type": "markdown",
   "metadata": {
    "id": "tSKHvy8DmOCQ"
   },
   "source": [
    "## Load Data"
   ]
  },
  {
   "cell_type": "code",
   "metadata": {
    "id": "RVJs4Bk8FjjO",
    "ExecuteTime": {
     "start_time": "2023-08-17T09:22:43.560595Z",
     "end_time": "2023-08-17T09:22:52.660505Z"
    }
   },
   "source": [
    "import os\n",
    "import torch\n",
    "import torchaudio\n",
    "import numpy as np\n",
    "import torch.nn as nn\n",
    "\n",
    "\n",
    "class BatchIterator:\n",
    "    def __init__(self, x, y, input_lengths, label_lengths, batch_size, shuffle=True):\n",
    "        self.x = x\n",
    "        self.y = y\n",
    "        self.input_lengths = input_lengths\n",
    "        self.label_lengths = label_lengths\n",
    "        self.batch_size = batch_size\n",
    "        self.num_samples = len(x)\n",
    "        self.num_batches = (self.num_samples + batch_size - 1) // batch_size\n",
    "        self.shuffle = shuffle\n",
    "        self.current_batch = 0\n",
    "\n",
    "    def __iter__(self):\n",
    "        if self.shuffle:\n",
    "            indices = np.random.permutation(self.num_samples)\n",
    "            self.x = self.x[indices]\n",
    "            self.y = self.y[indices]\n",
    "            self.input_lengths = np.asarray(self.input_lengths)[indices]\n",
    "            self.label_lengths = np.asarray(self.label_lengths)[indices]\n",
    "        self.current_batch = 0\n",
    "        return self\n",
    "\n",
    "    def __len__(self):\n",
    "        return self.num_batches\n",
    "\n",
    "    def __next__(self):\n",
    "        if self.current_batch < self.num_batches:\n",
    "            start_idx = self.current_batch * self.batch_size\n",
    "            end_idx = min((self.current_batch + 1) * self.batch_size, self.num_samples)\n",
    "\n",
    "            batch_x = self.x[start_idx:end_idx]\n",
    "            batch_y = self.y[start_idx:end_idx]\n",
    "            batch_input_lengths = self.input_lengths[start_idx:end_idx]\n",
    "            batch_label_lengths = self.label_lengths[start_idx:end_idx]\n",
    "\n",
    "            self.current_batch += 1\n",
    "\n",
    "            return batch_x, batch_y, batch_input_lengths, batch_label_lengths\n",
    "        else:\n",
    "            raise StopIteration\n",
    "\n",
    "\n",
    "class TextTransform:\n",
    "    \"\"\"Maps characters to integers and vice versa\"\"\"\n",
    "\n",
    "    def __init__(self):\n",
    "        char_map_str = \"\"\"\n",
    "        ' 0\n",
    "        <SPACE> 1\n",
    "        a 2\n",
    "        b 3\n",
    "        c 4\n",
    "        d 5\n",
    "        e 6\n",
    "        f 7\n",
    "        g 8\n",
    "        h 9\n",
    "        i 10\n",
    "        j 11\n",
    "        k 12\n",
    "        l 13\n",
    "        m 14\n",
    "        n 15\n",
    "        o 16\n",
    "        p 17\n",
    "        q 18\n",
    "        r 19\n",
    "        s 20\n",
    "        t 21\n",
    "        u 22\n",
    "        v 23\n",
    "        w 24\n",
    "        x 25\n",
    "        y 26\n",
    "        z 27\n",
    "        \"\"\"\n",
    "        self.char_map = {}\n",
    "        self.index_map = {}\n",
    "        for line in char_map_str.strip().split('\\n'):\n",
    "            ch, index = line.split()\n",
    "            self.char_map[ch] = int(index)\n",
    "            self.index_map[int(index)] = ch\n",
    "        self.index_map[1] = ' '\n",
    "\n",
    "    def text_to_int(self, text):\n",
    "        \"\"\" Use a character map and convert text to an integer sequence \"\"\"\n",
    "        int_sequence = []\n",
    "        for c in text:\n",
    "            if c == ' ':\n",
    "                ch = self.char_map['<SPACE>']\n",
    "            else:\n",
    "                ch = self.char_map[c]\n",
    "            int_sequence.append(ch)\n",
    "        return int_sequence\n",
    "\n",
    "    def int_to_text(self, labels):\n",
    "        \"\"\" Use a character map and convert integer labels to an text sequence \"\"\"\n",
    "        string = []\n",
    "        for i in labels:\n",
    "            string.append(self.index_map[i])\n",
    "        return ''.join(string).replace('<SPACE>', ' ')\n",
    "\n",
    "\n",
    "def load_wavs_data(load_again=False, save=False,\n",
    "                   path=r\"C:\\Users\\eviatar\\PycharmProjects\\Audio-And-Speech-Processing\\final project\\an4\"):\n",
    "    text_transform = TextTransform()\n",
    "\n",
    "    if not load_again:\n",
    "        all_spectrogram = torch.load(\"all_spectrogram.pt\")\n",
    "        all_labels = torch.load(\"all_labels.pt\")\n",
    "        all_input_lengths = torch.load(\"all_input_lengths.pt\")\n",
    "        all_label_lengths = torch.load(\"all_label_lengths.pt\")\n",
    "        return all_spectrogram, all_labels, all_input_lengths, all_label_lengths\n",
    "\n",
    "    valid_file = [\"test\", \"train\", \"val\"]\n",
    "    all_spectrogram = {\"test\": [], \"train\": [], \"val\": []}\n",
    "    all_labels = {\"test\": [], \"train\": [], \"val\": []}\n",
    "    all_input_lengths = {\"test\": [], \"train\": [], \"val\": []}\n",
    "    all_label_lengths = {\"test\": [], \"train\": [], \"val\": []}\n",
    "    for dir in os.listdir(path):\n",
    "        if dir in valid_file:\n",
    "            spectrogram = []\n",
    "            labels = []\n",
    "            input_lengths = []\n",
    "            label_lengths = []\n",
    "            for root2, dirs2, files2 in os.walk(os.path.join(path, dir)):\n",
    "                for file in files2:\n",
    "                    if file.endswith(\".txt\"):\n",
    "                        # change suffix to wav\n",
    "                        wav = file.replace(\".txt\", \".wav\")\n",
    "                        # print(os.path.join(root2, file))\n",
    "                        # change last dir to wav instead of txt\n",
    "                        root2_wav = root2.replace(\"txt\", \"wav\")\n",
    "\n",
    "                        # load wav:\n",
    "                        waveform, sample_rate = torchaudio.load(os.path.join(root2_wav, wav))\n",
    "                        # mfcc:\n",
    "                        mfcc = torchaudio.transforms.MFCC(sample_rate=sample_rate, n_mfcc=13)(waveform)\n",
    "                        mfcc = mfcc.squeeze(0)\n",
    "                        mfcc = mfcc.transpose(0, 1)  # todo: check if transpose is needed\n",
    "                        # add mfcc to y:\n",
    "                        spectrogram.append(mfcc)\n",
    "\n",
    "                        # load txt:\n",
    "                        with open(os.path.join(root2, file), 'r') as f:\n",
    "                            text = f.read()\n",
    "                            int_text = text_transform.text_to_int(text.lower())\n",
    "                        # add text to labels:\n",
    "                        label = torch.Tensor(int_text)\n",
    "                        labels.append(label)\n",
    "                        input_lengths.append(mfcc.shape[0] // 2)\n",
    "                        label_lengths.append(len(label))\n",
    "                    # print(file)\n",
    "\n",
    "            # todo maybe the padding should be done for all the data together (train test and val)\n",
    "            spectrogram = nn.utils.rnn.pad_sequence(spectrogram, batch_first=True).unsqueeze(1).transpose(2, 3)\n",
    "            labels = nn.utils.rnn.pad_sequence(labels, batch_first=True)\n",
    "\n",
    "            all_spectrogram[dir] = spectrogram\n",
    "            all_labels[dir] = labels\n",
    "            all_input_lengths[dir] = input_lengths\n",
    "            all_label_lengths[dir] = label_lengths\n",
    "\n",
    "    if save:\n",
    "        torch.save(all_spectrogram, \"all_spectrogram.pt\")\n",
    "        torch.save(all_labels, \"all_labels.pt\")\n",
    "        torch.save(all_input_lengths, \"all_input_lengths.pt\")\n",
    "        torch.save(all_label_lengths, \"all_label_lengths.pt\")\n",
    "    return all_spectrogram, all_labels, all_input_lengths, all_label_lengths\n",
    "\n",
    "\n",
    "def get_batch_iterator(data_type, batch_size=10):\n",
    "    if data_type not in [\"test\", \"train\", \"val\"]:\n",
    "        raise ValueError(\"data_type must be one of [test, train, val]\")\n",
    "    all_spectrogram, all_labels, all_input_lengths, all_label_lengths = load_wavs_data(load_again=False, save=False)\n",
    "    return BatchIterator(all_spectrogram[data_type], all_labels[data_type],\n",
    "                         all_input_lengths[data_type], all_label_lengths[data_type], batch_size)\n"
   ],
   "execution_count": 1,
   "outputs": []
  },
  {
   "cell_type": "markdown",
   "metadata": {
    "id": "4XdSlhAQnDEA"
   },
   "source": [
    "## The Model\n",
    "Base of of Deep Speech 2 with some personal improvements"
   ]
  },
  {
   "cell_type": "code",
   "metadata": {
    "id": "65H1-PCjm-FB",
    "ExecuteTime": {
     "start_time": "2023-08-07T19:52:22.522748Z",
     "end_time": "2023-08-07T19:52:22.558709Z"
    }
   },
   "source": [
    "import os\n",
    "import torch\n",
    "import torch.nn as nn\n",
    "import torch.utils.data as data\n",
    "import torch.optim as optim\n",
    "import torch.nn.functional as F\n",
    "import torchaudio\n",
    "import numpy as np\n",
    "\n",
    "\n",
    "class CNNLayerNorm(nn.Module):\n",
    "    \"\"\"Layer normalization built for cnns input\"\"\"\n",
    "\n",
    "    def __init__(self, n_feats):\n",
    "        super(CNNLayerNorm, self).__init__()\n",
    "        self.layer_norm = nn.LayerNorm(n_feats)\n",
    "\n",
    "    def forward(self, x):\n",
    "        # x (batch, channel, feature, time)\n",
    "        x = x.transpose(2, 3).contiguous()  # (batch, channel, time, feature)\n",
    "        x = self.layer_norm(x)\n",
    "        return x.transpose(2, 3).contiguous()  # (batch, channel, feature, time)\n",
    "\n",
    "\n",
    "class ResidualCNN(nn.Module):\n",
    "    \"\"\"Residual CNN inspired by https://arxiv.org/pdf/1603.05027.pdf\n",
    "        except with layer norm instead of batch norm\n",
    "    \"\"\"\n",
    "\n",
    "    def __init__(self, in_channels, out_channels, kernel, stride, dropout, n_feats):\n",
    "        super(ResidualCNN, self).__init__()\n",
    "\n",
    "        self.cnn1 = nn.Conv2d(in_channels, out_channels, kernel, stride, padding=kernel // 2)\n",
    "        self.cnn2 = nn.Conv2d(out_channels, out_channels, kernel, stride, padding=kernel // 2)\n",
    "        self.dropout1 = nn.Dropout(dropout)\n",
    "        self.dropout2 = nn.Dropout(dropout)\n",
    "        self.layer_norm1 = CNNLayerNorm(n_feats)\n",
    "        self.layer_norm2 = CNNLayerNorm(n_feats)\n",
    "\n",
    "    def forward(self, x):\n",
    "        residual = x  # (batch, channel, feature, time)\n",
    "        x = self.layer_norm1(x)\n",
    "        x = F.gelu(x)\n",
    "        x = self.dropout1(x)\n",
    "        x = self.cnn1(x)\n",
    "        x = self.layer_norm2(x)\n",
    "        x = F.gelu(x)\n",
    "        x = self.dropout2(x)\n",
    "        x = self.cnn2(x)\n",
    "        x += residual\n",
    "        return x  # (batch, channel, feature, time)\n",
    "\n",
    "\n",
    "class BidirectionalGRU(nn.Module):\n",
    "\n",
    "    def __init__(self, rnn_dim, hidden_size, dropout, batch_first):\n",
    "        super(BidirectionalGRU, self).__init__()\n",
    "\n",
    "        self.BiGRU = nn.GRU(\n",
    "            input_size=rnn_dim, hidden_size=hidden_size,\n",
    "            num_layers=1, batch_first=batch_first, bidirectional=True)\n",
    "        self.layer_norm = nn.LayerNorm(rnn_dim)\n",
    "        self.dropout = nn.Dropout(dropout)\n",
    "\n",
    "    def forward(self, x):\n",
    "        x = self.layer_norm(x)\n",
    "        x = F.gelu(x)\n",
    "        x, _ = self.BiGRU(x)\n",
    "        x = self.dropout(x)\n",
    "        return x\n",
    "\n",
    "\n",
    "class SpeechRecognitionModel(nn.Module):\n",
    "\n",
    "    def __init__(self, n_cnn_layers, n_rnn_layers, rnn_dim, n_class, n_feats, stride=2, dropout=0.1):\n",
    "        super(SpeechRecognitionModel, self).__init__()\n",
    "        n_feats = n_feats // 2 + 1  # todo even vrsos odd\n",
    "        self.cnn = nn.Conv2d(1, 32, 3, stride=stride, padding=3 // 2)  # cnn for extracting heirachal features\n",
    "\n",
    "        # n residual cnn layers with filter size of 32\n",
    "        self.rescnn_layers = nn.Sequential(*[\n",
    "            ResidualCNN(32, 32, kernel=3, stride=1, dropout=dropout, n_feats=n_feats)\n",
    "            for _ in range(n_cnn_layers)\n",
    "        ])\n",
    "        self.fully_connected = nn.Linear(n_feats * 32, rnn_dim)\n",
    "        self.birnn_layers = nn.Sequential(*[\n",
    "            BidirectionalGRU(rnn_dim=rnn_dim if i == 0 else rnn_dim * 2,\n",
    "                             hidden_size=rnn_dim, dropout=dropout, batch_first=i == 0)\n",
    "            for i in range(n_rnn_layers)\n",
    "        ])\n",
    "        self.classifier = nn.Sequential(\n",
    "            nn.Linear(rnn_dim * 2, rnn_dim),  # birnn returns rnn_dim*2\n",
    "            nn.GELU(),\n",
    "            nn.Dropout(dropout),\n",
    "            nn.Linear(rnn_dim, n_class)\n",
    "        )\n",
    "\n",
    "    def forward(self, x):\n",
    "        x = self.cnn(x)\n",
    "        x = self.rescnn_layers(x)\n",
    "        sizes = x.size()\n",
    "        x = x.view(sizes[0], sizes[1] * sizes[2], sizes[3])  # (batch, feature, time)\n",
    "        x = x.transpose(1, 2)  # (batch, time, feature)\n",
    "        x = self.fully_connected(x)\n",
    "        x = self.birnn_layers(x)\n",
    "        x = self.classifier(x)\n",
    "        return x\n"
   ],
   "execution_count": 4,
   "outputs": []
  },
  {
   "cell_type": "markdown",
   "metadata": {
    "id": "CuguNEzKnMOn"
   },
   "source": [
    "## The Training and Evaluating Script"
   ]
  },
  {
   "cell_type": "code",
   "metadata": {
    "id": "ydkqGeOwnPGY",
    "pycharm": {
     "is_executing": true
    }
   },
   "source": [
    "import Model\n",
    "import TrainAndEvaluation\n",
    "import torchaudio\n",
    "import load_data\n",
    "import wandb\n",
    "\n",
    "WB = True\n",
    "DESCRIPTION = 'initial work'\n",
    "RUN = 'Complex Model'\n",
    "\n",
    "learning_rate = 5e-4\n",
    "batch_size = 10\n",
    "epochs = 10\n",
    "\n",
    "hparams = {\n",
    "    \"n_cnn_layers\": 3,\n",
    "    \"n_rnn_layers\": 2,\n",
    "    \"rnn_dim\": 128,\n",
    "    \"n_class\": 29,\n",
    "    \"n_feats\": 13,\n",
    "    \"stride\": 2,\n",
    "    \"dropout\": 0.1,\n",
    "    \"learning_rate\": learning_rate,\n",
    "    \"batch_size\": batch_size,\n",
    "    \"epochs\": epochs\n",
    "}\n",
    "\n",
    "\n",
    "def init_w_and_b():\n",
    "    if WB:\n",
    "        wandb.init(\n",
    "            # Set the project where this run will be logged\n",
    "            group=\"Complex Model initial work\",\n",
    "            project=\"ASR\",\n",
    "            # We pass a run name (otherwise it’ll be randomly assigned, like sunshine-lollypop-10)\n",
    "            name=f\"{DESCRIPTION}{RUN}_{epochs}_epochs\",\n",
    "            notes='checking if log is work properly',\n",
    "            # Track hyperparameters and run metadata\n",
    "            config={\n",
    "                \"learning_rate\": learning_rate,\n",
    "                \"architecture\": \"CNN\",\n",
    "                \"dataset\": \"CIFAR-10\",\n",
    "                \"epochs\": epochs,\n",
    "\n",
    "            })\n",
    "\n",
    "\n",
    "def main():\n",
    "    if WB:\n",
    "        wandb.login()\n",
    "        init_w_and_b()\n",
    "\n",
    "    train_batch_iterator = load_data.get_batch_iterator(\"train\", batch_size)\n",
    "    test_batch_iterator = load_data.get_batch_iterator(\"test\", batch_size)\n",
    "    val_batch_iterator = load_data.get_batch_iterator(\"val\", batch_size)\n",
    "    all_iterators = [train_batch_iterator, test_batch_iterator, val_batch_iterator]\n",
    "\n",
    "    TrainAndEvaluation.train_test_valid(hparams, all_iterators[0])\n",
    "\n",
    "    if WB:\n",
    "        wandb.finish()\n",
    "\n",
    "\n",
    "if __name__ == '__main__':\n",
    "    main()\n"
   ],
   "execution_count": null,
   "outputs": [
    {
     "name": "stderr",
     "output_type": "stream",
     "text": [
      "\u001B[34m\u001B[1mwandb\u001B[0m: \u001B[33mWARNING\u001B[0m Calling wandb.login() after wandb.init() has no effect.\n"
     ]
    },
    {
     "data": {
      "text/plain": "<IPython.core.display.HTML object>",
      "text/html": "Finishing last run (ID:tyj8522e) before initializing another..."
     },
     "metadata": {},
     "output_type": "display_data"
    },
    {
     "data": {
      "text/plain": "<IPython.core.display.HTML object>",
      "text/html": "Waiting for W&B process to finish... <strong style=\"color:green\">(success).</strong>"
     },
     "metadata": {},
     "output_type": "display_data"
    },
    {
     "data": {
      "text/plain": "<IPython.core.display.HTML object>",
      "text/html": "<style>\n    table.wandb td:nth-child(1) { padding: 0 10px; text-align: left ; width: auto;} td:nth-child(2) {text-align: left ; width: 100%}\n    .wandb-row { display: flex; flex-direction: row; flex-wrap: wrap; justify-content: flex-start; width: 100% }\n    .wandb-col { display: flex; flex-direction: column; flex-basis: 100%; flex: 1; padding: 10px; }\n    </style>\n<div class=\"wandb-row\"><div class=\"wandb-col\"><h3>Run history:</h3><br/><table class=\"wandb\"><tr><td>train_loss</td><td>▁</td></tr></table><br/></div><div class=\"wandb-col\"><h3>Run summary:</h3><br/><table class=\"wandb\"><tr><td>train_loss</td><td>16.88504</td></tr></table><br/></div></div>"
     },
     "metadata": {},
     "output_type": "display_data"
    },
    {
     "data": {
      "text/plain": "<IPython.core.display.HTML object>",
      "text/html": " View run <strong style=\"color:#cdcd00\">initial workComplex Model_10_epochs</strong> at: <a href='https://wandb.ai/eviatar/ASR/runs/tyj8522e' target=\"_blank\">https://wandb.ai/eviatar/ASR/runs/tyj8522e</a><br/> View job at <a href='https://wandb.ai/eviatar/ASR/jobs/QXJ0aWZhY3RDb2xsZWN0aW9uOjg4NTkxMzQ0/version_details/v0' target=\"_blank\">https://wandb.ai/eviatar/ASR/jobs/QXJ0aWZhY3RDb2xsZWN0aW9uOjg4NTkxMzQ0/version_details/v0</a><br/>Synced 5 W&B file(s), 0 media file(s), 2 artifact file(s) and 0 other file(s)"
     },
     "metadata": {},
     "output_type": "display_data"
    },
    {
     "data": {
      "text/plain": "<IPython.core.display.HTML object>",
      "text/html": "Find logs at: <code>.\\wandb\\run-20230807_195451-tyj8522e\\logs</code>"
     },
     "metadata": {},
     "output_type": "display_data"
    },
    {
     "data": {
      "text/plain": "<IPython.core.display.HTML object>",
      "text/html": "Successfully finished last run (ID:tyj8522e). Initializing new run:<br/>"
     },
     "metadata": {},
     "output_type": "display_data"
    },
    {
     "data": {
      "text/plain": "VBox(children=(Label(value='Waiting for wandb.init()...\\r'), FloatProgress(value=0.01691666666495924, max=1.0)…",
      "application/vnd.jupyter.widget-view+json": {
       "version_major": 2,
       "version_minor": 0,
       "model_id": "3f2c7caf0c2e4c47aea44987229f50f6"
      }
     },
     "metadata": {},
     "output_type": "display_data"
    },
    {
     "data": {
      "text/plain": "<IPython.core.display.HTML object>",
      "text/html": "Tracking run with wandb version 0.15.8"
     },
     "metadata": {},
     "output_type": "display_data"
    },
    {
     "data": {
      "text/plain": "<IPython.core.display.HTML object>",
      "text/html": "Run data is saved locally in <code>C:\\Users\\eviatar\\PycharmProjects\\Audio-And-Speech-Processing\\final project\\wandb\\run-20230807_195555-q2q18if7</code>"
     },
     "metadata": {},
     "output_type": "display_data"
    },
    {
     "data": {
      "text/plain": "<IPython.core.display.HTML object>",
      "text/html": "Syncing run <strong><a href='https://wandb.ai/eviatar/ASR/runs/q2q18if7' target=\"_blank\">initial workComplex Model_10_epochs</a></strong> to <a href='https://wandb.ai/eviatar/ASR' target=\"_blank\">Weights & Biases</a> (<a href='https://wandb.me/run' target=\"_blank\">docs</a>)<br/>"
     },
     "metadata": {},
     "output_type": "display_data"
    },
    {
     "data": {
      "text/plain": "<IPython.core.display.HTML object>",
      "text/html": " View project at <a href='https://wandb.ai/eviatar/ASR' target=\"_blank\">https://wandb.ai/eviatar/ASR</a>"
     },
     "metadata": {},
     "output_type": "display_data"
    },
    {
     "data": {
      "text/plain": "<IPython.core.display.HTML object>",
      "text/html": " View run at <a href='https://wandb.ai/eviatar/ASR/runs/q2q18if7' target=\"_blank\">https://wandb.ai/eviatar/ASR/runs/q2q18if7</a>"
     },
     "metadata": {},
     "output_type": "display_data"
    },
    {
     "name": "stdout",
     "output_type": "stream",
     "text": [
      "Train Epoch: 1 [0/86 (0%)]\tLoss: 17.944920\n",
      "Train Epoch: 1 [500/86 (58%)]\tLoss: 7.727489\n",
      "Train Epoch: 2 [0/86 (0%)]\tLoss: 3.353458\n",
      "Train Epoch: 2 [500/86 (58%)]\tLoss: 2.919240\n"
     ]
    }
   ]
  },
  {
   "cell_type": "markdown",
   "metadata": {
    "id": "4qBGdkQSmW3a"
   },
   "source": []
  },
  {
   "cell_type": "markdown",
   "source": [],
   "metadata": {
    "collapsed": false
   }
  },
  {
   "cell_type": "markdown",
   "metadata": {
    "id": "HxRIb_WempDq"
   },
   "source": []
  },
  {
   "cell_type": "markdown",
   "metadata": {
    "id": "hXvlWZeVpXfX"
   },
   "source": []
  }
 ]
}
